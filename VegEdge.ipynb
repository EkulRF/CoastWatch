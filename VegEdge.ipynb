{
 "cells": [
  {
   "cell_type": "markdown",
   "metadata": {},
   "source": [
    "# VegEdge\n"
   ]
  },
  {
   "cell_type": "code",
   "execution_count": 17,
   "metadata": {},
   "outputs": [],
   "source": [
    "import os\n",
    "import numpy as np\n",
    "import pickle\n",
    "import warnings\n",
    "warnings.filterwarnings(\"ignore\")\n",
    "import matplotlib\n",
    "matplotlib.use('Qt5Agg')\n",
    "import matplotlib.pyplot as plt\n",
    "from matplotlib import gridspec\n",
    "plt.ion()\n",
    "import pandas as pd\n",
    "from datetime import datetime, timezone, timedelta\n",
    "from Elves import Download, Image_Processing, Shoreline, Toolbox, Transects, VegetationLine\n",
    "import mpl_toolkits as mpl\n",
    "from mpl_toolkits.axes_grid1.inset_locator import zoomed_inset_axes, mark_inset\n",
    "from matplotlib.ticker import MaxNLocator\n",
    "import matplotlib.dates as mdates\n",
    "from sklearn.datasets import load_diabetes\n",
    "import seaborn as sns; sns.set()\n",
    "import math\n",
    "import geemap\n",
    "import ee\n",
    "import pprint\n",
    "from shapely import geometry\n",
    "from shapely.geometry import Point, LineString\n",
    "import geopandas as gpd\n",
    "import matplotlib.cm as cm\n",
    "import pyproj\n",
    "from IPython.display import clear_output\n",
    "import scipy\n",
    "from scipy import optimize\n",
    "import csv\n",
    "import math\n",
    "\n",
    "ee.Initialize()"
   ]
  },
  {
   "cell_type": "markdown",
   "metadata": {},
   "source": [
    "## Region of Interest Selection"
   ]
  },
  {
   "cell_type": "markdown",
   "metadata": {},
   "source": [
    "Two options for image retrieval: 1st involes selecting region for the map generated below; 2nd involes inputting lat,lon coords manually."
   ]
  },
  {
   "cell_type": "markdown",
   "metadata": {},
   "source": [
    "**Option 1**"
   ]
  },
  {
   "cell_type": "code",
   "execution_count": 8,
   "metadata": {
    "scrolled": false
   },
   "outputs": [
    {
     "data": {
      "application/vnd.jupyter.widget-view+json": {
       "model_id": "ccf17cbce2c9438db8eb9c9870b28330",
       "version_major": 2,
       "version_minor": 0
      },
      "text/plain": [
       "Map(center=[0, 0], controls=(WidgetControl(options=['position', 'transparent_bg'], widget=HBox(children=(Toggl…"
      ]
     },
     "metadata": {},
     "output_type": "display_data"
    }
   ],
   "source": [
    "\"\"\"\n",
    "Run this cell to generate a map. Use the polygon drawing tool on the left-hand side to \n",
    "draw out the region of coast you're interested in.\n",
    "\"\"\"\n",
    "\n",
    "Map = geemap.Map(center=[0,0],zoom=2)\n",
    "Map.add_basemap('HYBRID')\n",
    "Map"
   ]
  },
  {
   "cell_type": "code",
   "execution_count": null,
   "metadata": {},
   "outputs": [],
   "source": [
    "roi = Map.user_roi.geometries().getInfo()[0]['coordinates']\n",
    "polygon = [[roi[0][0],roi[0][3],roi[0][1],roi[0][2]]]\n",
    "point = ee.Geometry.Point(roi[0][0])"
   ]
  },
  {
   "cell_type": "markdown",
   "metadata": {},
   "source": [
    "**Option 2**"
   ]
  },
  {
   "cell_type": "code",
   "execution_count": 19,
   "metadata": {
    "scrolled": false
   },
   "outputs": [],
   "source": [
    "##Below are example coordinates\n",
    "\n",
    "##ST ANDREWS\n",
    "lonmin, lonmax = -2.842023, -2.774955\n",
    "latmin, latmax = 56.338343, 56.368490\n",
    "\n",
    "##FELIXSTOWE\n",
    "#lonmin, lonmax = 1.316128, 1.370888\n",
    "#latmin, latmax = 51.930771, 51.965265\n",
    "\n",
    "##BAY OF SKAILL\n",
    "#lonmin, lonmax = -3.351555, -3.332693\n",
    "#latmin, latmax = 59.048456, 59.057759\n",
    "\n",
    "##SHINGLE STREET\n",
    "#lonmin, lonmax = 1.446131, 1.460008\n",
    "#latmin, latmax = 52.027039, 52.037448\n",
    "\n",
    "##COVEHITHE\n",
    "#\n",
    "\n",
    "point = ee.Geometry.Point([lonmin, latmin]) \n",
    "polygon = [[[lonmin, latmin],[lonmax, latmin],[lonmin, latmax],[lonmax, latmax]]]"
   ]
  },
  {
   "cell_type": "markdown",
   "metadata": {},
   "source": [
    "## Image Retrieval"
   ]
  },
  {
   "cell_type": "code",
   "execution_count": 20,
   "metadata": {},
   "outputs": [
    {
     "name": "stdout",
     "output_type": "stream",
     "text": [
      "Images available between 1940-05-01 and 2021-12-02:\n",
      "- In Landsat Tier 1 & Sentinel-2 Level-1C:\n",
      "  L5: 344 images\n",
      "  L8: 288 images\n",
      "  S2: 663 images\n",
      "  Total: 1295 images\n",
      "- In Landsat Tier 2:\n",
      "  L5: 422 images\n",
      "  L8: 110 images\n",
      "  Total: 532 images\n"
     ]
    }
   ],
   "source": [
    "# it's recommended to convert the polygon to the smallest rectangle (sides parallel to coordinate axes)       \n",
    "polygon = Toolbox.smallest_rectangle(polygon)\n",
    "\n",
    "# date range\n",
    "dates = ['1940-05-01', '2021-12-02']\n",
    "# satellite missions\n",
    "# Input a list of containing any/all of 'L5', 'L8', 'S2'\n",
    "sat_list = ['L5','L8','S2']\n",
    "\n",
    "projection_epsg = 27700\n",
    "image_epsg = 32630\n",
    "\n",
    "# name of the site\n",
    "sitename = 'ResearchData'\n",
    "# directory where the data will be stored\n",
    "filepath = os.path.join(os.getcwd(), 'Data')\n",
    "\n",
    "# put all the inputs into a dictionnary\n",
    "inputs = {'polygon': polygon, 'dates': dates, 'sat_list': sat_list, 'sitename': sitename, 'filepath':filepath}\n",
    "\n",
    "direc = os.path.join(filepath, sitename)\n",
    "\n",
    "if os.path.isdir(direc) is False:\n",
    "    os.mkdir(direc)\n",
    "\n",
    "# before downloading the images, check how many images are available for your inputs\n",
    "Download.check_images_available(inputs);"
   ]
  },
  {
   "cell_type": "code",
   "execution_count": null,
   "metadata": {},
   "outputs": [
    {
     "name": "stdout",
     "output_type": "stream",
     "text": [
      "L8 :  26.93877551020408 %\n"
     ]
    }
   ],
   "source": [
    "Sat = Toolbox.image_retrieval(point,dates, sat_list)\n",
    "metadata = Toolbox.metadata_collection(sat_list, Sat, filepath, sitename)"
   ]
  },
  {
   "cell_type": "markdown",
   "metadata": {},
   "source": [
    "## Veg Line - Extraction"
   ]
  },
  {
   "cell_type": "code",
   "execution_count": 13,
   "metadata": {},
   "outputs": [],
   "source": [
    "BasePath = 'Data/' + sitename + '/Veglines'\n",
    "\n",
    "if os.path.isdir(BasePath) is False:\n",
    "    os.mkdir(BasePath)\n",
    "\n",
    "settings = {\n",
    "    # general parameters:\n",
    "    'cloud_thresh': 0.25,        # threshold on maximum cloud cover\n",
    "    'output_epsg': image_epsg,     # epsg code of spatial reference system desired for the output   \n",
    "    # quality control:\n",
    "    'check_detection': True,    # if True, shows each shoreline detection to the user for validation\n",
    "    'adjust_detection': True,  # if True, allows user to adjust the postion of each shoreline by changing the threhold\n",
    "    'save_figure': True,        # if True, saves a figure showing the mapped shoreline for each image\n",
    "    # [ONLY FOR ADVANCED USERS] shoreline detection parameters:\n",
    "    'min_beach_area': 50,     # minimum area (in metres^2) for an object to be labelled as a beach\n",
    "    'buffer_size': 250,         # radius (in metres) for buffer around sandy pixels considered in the shoreline detection\n",
    "    'min_length_sl': 100,       # minimum length (in metres) of shoreline perimeter to be valid\n",
    "    'cloud_mask_issue': False,  # switch this parameter to True if sand pixels are masked (in black) on many images  \n",
    "    'sand_color': 'bright',    # 'default', 'dark' (for grey/black sand beaches) or 'bright' (for white sand beaches)\n",
    "    # add the inputs defined previously\n",
    "    'inputs': inputs,\n",
    "    'projection_epsg': projection_epsg,\n",
    "    'hausdorff_threshold':350000000000000000000000000000000000000000000000000\n",
    "}"
   ]
  },
  {
   "cell_type": "markdown",
   "metadata": {},
   "source": [
    "Digitize a reference vegetation line"
   ]
  },
  {
   "cell_type": "markdown",
   "metadata": {},
   "source": [
    "My nice new code"
   ]
  },
  {
   "cell_type": "code",
   "execution_count": 13,
   "metadata": {},
   "outputs": [
    {
     "data": {
      "application/vnd.jupyter.widget-view+json": {
       "model_id": "46b9f61565ce402ebf9163ca18ba04cf",
       "version_major": 2,
       "version_minor": 0
      },
      "text/plain": [
       "Map(center=[0, 0], controls=(WidgetControl(options=['position', 'transparent_bg'], widget=HBox(children=(Toggl…"
      ]
     },
     "metadata": {},
     "output_type": "display_data"
    }
   ],
   "source": [
    "#Draw reference line onto the map then run the next cell\n",
    "\n",
    "Map = geemap.Map(center=[0,0],zoom=2)\n",
    "Map.add_basemap('HYBRID')\n",
    "Map"
   ]
  },
  {
   "cell_type": "code",
   "execution_count": 17,
   "metadata": {},
   "outputs": [
    {
     "name": "stdout",
     "output_type": "stream",
     "text": [
      "[[-2.833429, 56.353932], [-2.831883, 56.354265], [-2.830595, 56.35455], [-2.828964, 56.355073], [-2.827591, 56.355692], [-2.826904, 56.35669], [-2.82656, 56.357926], [-2.826217, 56.358735], [-2.825616, 56.360019], [-2.825015, 56.360874], [-2.824843, 56.362111], [-2.824156, 56.363109], [-2.823384, 56.364298], [-2.822611, 56.365106], [-2.821838, 56.366152], [-2.82098, 56.367055], [-2.819434, 56.367388], [-2.817803, 56.366294], [-2.816601, 56.365486], [-2.815399, 56.364773], [-2.814369, 56.363917], [-2.81351, 56.362966], [-2.812824, 56.362301], [-2.812051, 56.360827], [-2.811622, 56.359733], [-2.811278, 56.358735], [-2.810935, 56.357641], [-2.810677, 56.356975], [-2.810076, 56.355929], [-2.809733, 56.354693], [-2.809389, 56.353837], [-2.808874, 56.352791], [-2.808359, 56.351792], [-2.807844, 56.350603]]\n"
     ]
    }
   ],
   "source": [
    "referenceLine = Map.user_roi.geometries().getInfo()[0]['coordinates']\n",
    "\n",
    "for i in range(len(referenceLine)):\n",
    "    #referenceLine[i][0], referenceLine[i][1] = referenceLine[i][1], referenceLine[i][0]\n",
    "    referenceLine[i] = list(referenceLine[i])\n",
    "\n",
    "referenceLine = Toolbox.convert_epsg(np.array(referenceLine),4326,32630)\n",
    "settings['reference_shoreline'] = referenceLine\n",
    "settings['max_dist_ref'] = 50"
   ]
  },
  {
   "cell_type": "markdown",
   "metadata": {},
   "source": [
    "The old code"
   ]
  },
  {
   "cell_type": "code",
   "execution_count": 15,
   "metadata": {},
   "outputs": [],
   "source": [
    "%matplotlib qt\n",
    "settings['reference_shoreline'] = Image_Processing.get_reference_sl(metadata, settings, polygon, dates)\n",
    "settings['max_dist_ref'] = 150 # max distance (in meters) allowed from the reference shoreline"
   ]
  },
  {
   "cell_type": "markdown",
   "metadata": {},
   "source": [
    "Extracts vegetation lines from all selected images. This'll take a while..."
   ]
  },
  {
   "cell_type": "code",
   "execution_count": 16,
   "metadata": {
    "scrolled": true
   },
   "outputs": [
    {
     "name": "stdout",
     "output_type": "stream",
     "text": [
      "Mapping shorelines:\n",
      "L5:   100%\n"
     ]
    }
   ],
   "source": [
    "%matplotlib qt\n",
    "output, output_latlon, output_proj = VegetationLine.extract_veglines(metadata, settings, polygon, dates)"
   ]
  },
  {
   "cell_type": "code",
   "execution_count": 8,
   "metadata": {},
   "outputs": [
    {
     "ename": "OSError",
     "evalue": "[Errno 22] Invalid argument",
     "output_type": "error",
     "traceback": [
      "\u001b[1;31m---------------------------------------------------------------------------\u001b[0m",
      "\u001b[1;31mOSError\u001b[0m                                   Traceback (most recent call last)",
      "\u001b[1;32m~\\AppData\\Local\\Temp/ipykernel_14464/2796910186.py\u001b[0m in \u001b[0;36m<module>\u001b[1;34m\u001b[0m\n\u001b[0;32m      2\u001b[0m \u001b[0mfilepath\u001b[0m \u001b[1;33m=\u001b[0m \u001b[0mos\u001b[0m\u001b[1;33m.\u001b[0m\u001b[0mpath\u001b[0m\u001b[1;33m.\u001b[0m\u001b[0mjoin\u001b[0m\u001b[1;33m(\u001b[0m\u001b[0minputs\u001b[0m\u001b[1;33m[\u001b[0m\u001b[1;34m'filepath'\u001b[0m\u001b[1;33m]\u001b[0m\u001b[1;33m,\u001b[0m \u001b[0msitename\u001b[0m\u001b[1;33m)\u001b[0m\u001b[1;33m\u001b[0m\u001b[1;33m\u001b[0m\u001b[0m\n\u001b[0;32m      3\u001b[0m \u001b[1;32mwith\u001b[0m \u001b[0mopen\u001b[0m\u001b[1;33m(\u001b[0m\u001b[0mos\u001b[0m\u001b[1;33m.\u001b[0m\u001b[0mpath\u001b[0m\u001b[1;33m.\u001b[0m\u001b[0mjoin\u001b[0m\u001b[1;33m(\u001b[0m\u001b[0mfilepath\u001b[0m\u001b[1;33m,\u001b[0m \u001b[0msitename\u001b[0m \u001b[1;33m+\u001b[0m \u001b[1;34m'_output.pkl'\u001b[0m\u001b[1;33m)\u001b[0m\u001b[1;33m,\u001b[0m \u001b[1;34m'rb'\u001b[0m\u001b[1;33m)\u001b[0m \u001b[1;32mas\u001b[0m \u001b[0mf\u001b[0m\u001b[1;33m:\u001b[0m\u001b[1;33m\u001b[0m\u001b[1;33m\u001b[0m\u001b[0m\n\u001b[1;32m----> 4\u001b[1;33m     \u001b[0moutput\u001b[0m \u001b[1;33m=\u001b[0m \u001b[0mpickle\u001b[0m\u001b[1;33m.\u001b[0m\u001b[0mload\u001b[0m\u001b[1;33m(\u001b[0m\u001b[0mf\u001b[0m\u001b[1;33m)\u001b[0m\u001b[1;33m\u001b[0m\u001b[1;33m\u001b[0m\u001b[0m\n\u001b[0m\u001b[0;32m      5\u001b[0m \u001b[1;32mwith\u001b[0m \u001b[0mopen\u001b[0m\u001b[1;33m(\u001b[0m\u001b[0mos\u001b[0m\u001b[1;33m.\u001b[0m\u001b[0mpath\u001b[0m\u001b[1;33m.\u001b[0m\u001b[0mjoin\u001b[0m\u001b[1;33m(\u001b[0m\u001b[0mfilepath\u001b[0m\u001b[1;33m,\u001b[0m \u001b[0msitename\u001b[0m \u001b[1;33m+\u001b[0m \u001b[1;34m'_output_latlon.pkl'\u001b[0m\u001b[1;33m)\u001b[0m\u001b[1;33m,\u001b[0m \u001b[1;34m'rb'\u001b[0m\u001b[1;33m)\u001b[0m \u001b[1;32mas\u001b[0m \u001b[0mf\u001b[0m\u001b[1;33m:\u001b[0m\u001b[1;33m\u001b[0m\u001b[1;33m\u001b[0m\u001b[0m\n\u001b[0;32m      6\u001b[0m     \u001b[0moutput_latlon\u001b[0m \u001b[1;33m=\u001b[0m \u001b[0mpickle\u001b[0m\u001b[1;33m.\u001b[0m\u001b[0mload\u001b[0m\u001b[1;33m(\u001b[0m\u001b[0mf\u001b[0m\u001b[1;33m)\u001b[0m\u001b[1;33m\u001b[0m\u001b[1;33m\u001b[0m\u001b[0m\n",
      "\u001b[1;31mOSError\u001b[0m: [Errno 22] Invalid argument"
     ]
    }
   ],
   "source": [
    "#Alternatively, load the output file if previously processed\n",
    "filepath = os.path.join(inputs['filepath'], sitename)\n",
    "with open(os.path.join(filepath, sitename + '_output.pkl'), 'rb') as f:\n",
    "    output = pickle.load(f)\n",
    "with open(os.path.join(filepath, sitename + '_output_latlon.pkl'), 'rb') as f:\n",
    "    output_latlon = pickle.load(f)\n",
    "with open(os.path.join(filepath, sitename + '_output_proj.pkl'), 'rb') as f:\n",
    "    output_proj = pickle.load(f)"
   ]
  },
  {
   "cell_type": "code",
   "execution_count": null,
   "metadata": {},
   "outputs": [],
   "source": [
    "output = Toolbox.remove_duplicates(output) # removes duplicates (images taken on the same date by the same satellite)\n",
    "output_latlon = Toolbox.remove_duplicates(output_latlon)\n",
    "output_proj = Toolbox.remove_duplicates(output_proj)"
   ]
  },
  {
   "cell_type": "markdown",
   "metadata": {},
   "source": [
    "Visual Display of Vegetation Lines. Will tank your PC if you've got lots of lines"
   ]
  },
  {
   "cell_type": "code",
   "execution_count": 20,
   "metadata": {
    "scrolled": false
   },
   "outputs": [
    {
     "ename": "TransportError",
     "evalue": "Unable to find the server at accounts.google.com",
     "output_type": "error",
     "traceback": [
      "\u001b[1;31m---------------------------------------------------------------------------\u001b[0m",
      "\u001b[1;31mgaierror\u001b[0m                                  Traceback (most recent call last)",
      "\u001b[1;32m~\\anaconda3\\envs\\CoastWatch\\lib\\site-packages\\httplib2\\__init__.py\u001b[0m in \u001b[0;36m_conn_request\u001b[1;34m(self, conn, request_uri, method, body, headers)\u001b[0m\n\u001b[0;32m   1362\u001b[0m                 \u001b[1;32mif\u001b[0m \u001b[0mconn\u001b[0m\u001b[1;33m.\u001b[0m\u001b[0msock\u001b[0m \u001b[1;32mis\u001b[0m \u001b[1;32mNone\u001b[0m\u001b[1;33m:\u001b[0m\u001b[1;33m\u001b[0m\u001b[1;33m\u001b[0m\u001b[0m\n\u001b[1;32m-> 1363\u001b[1;33m                     \u001b[0mconn\u001b[0m\u001b[1;33m.\u001b[0m\u001b[0mconnect\u001b[0m\u001b[1;33m(\u001b[0m\u001b[1;33m)\u001b[0m\u001b[1;33m\u001b[0m\u001b[1;33m\u001b[0m\u001b[0m\n\u001b[0m\u001b[0;32m   1364\u001b[0m                 \u001b[0mconn\u001b[0m\u001b[1;33m.\u001b[0m\u001b[0mrequest\u001b[0m\u001b[1;33m(\u001b[0m\u001b[0mmethod\u001b[0m\u001b[1;33m,\u001b[0m \u001b[0mrequest_uri\u001b[0m\u001b[1;33m,\u001b[0m \u001b[0mbody\u001b[0m\u001b[1;33m,\u001b[0m \u001b[0mheaders\u001b[0m\u001b[1;33m)\u001b[0m\u001b[1;33m\u001b[0m\u001b[1;33m\u001b[0m\u001b[0m\n",
      "\u001b[1;32m~\\anaconda3\\envs\\CoastWatch\\lib\\site-packages\\httplib2\\__init__.py\u001b[0m in \u001b[0;36mconnect\u001b[1;34m(self)\u001b[0m\n\u001b[0;32m   1138\u001b[0m \u001b[1;33m\u001b[0m\u001b[0m\n\u001b[1;32m-> 1139\u001b[1;33m         \u001b[0maddress_info\u001b[0m \u001b[1;33m=\u001b[0m \u001b[0msocket\u001b[0m\u001b[1;33m.\u001b[0m\u001b[0mgetaddrinfo\u001b[0m\u001b[1;33m(\u001b[0m\u001b[0mhost\u001b[0m\u001b[1;33m,\u001b[0m \u001b[0mport\u001b[0m\u001b[1;33m,\u001b[0m \u001b[1;36m0\u001b[0m\u001b[1;33m,\u001b[0m \u001b[0msocket\u001b[0m\u001b[1;33m.\u001b[0m\u001b[0mSOCK_STREAM\u001b[0m\u001b[1;33m)\u001b[0m\u001b[1;33m\u001b[0m\u001b[1;33m\u001b[0m\u001b[0m\n\u001b[0m\u001b[0;32m   1140\u001b[0m         \u001b[1;32mfor\u001b[0m \u001b[0mfamily\u001b[0m\u001b[1;33m,\u001b[0m \u001b[0msocktype\u001b[0m\u001b[1;33m,\u001b[0m \u001b[0mproto\u001b[0m\u001b[1;33m,\u001b[0m \u001b[0mcanonname\u001b[0m\u001b[1;33m,\u001b[0m \u001b[0msockaddr\u001b[0m \u001b[1;32min\u001b[0m \u001b[0maddress_info\u001b[0m\u001b[1;33m:\u001b[0m\u001b[1;33m\u001b[0m\u001b[1;33m\u001b[0m\u001b[0m\n",
      "\u001b[1;32m~\\anaconda3\\envs\\CoastWatch\\lib\\socket.py\u001b[0m in \u001b[0;36mgetaddrinfo\u001b[1;34m(host, port, family, type, proto, flags)\u001b[0m\n\u001b[0;32m    751\u001b[0m     \u001b[0maddrlist\u001b[0m \u001b[1;33m=\u001b[0m \u001b[1;33m[\u001b[0m\u001b[1;33m]\u001b[0m\u001b[1;33m\u001b[0m\u001b[1;33m\u001b[0m\u001b[0m\n\u001b[1;32m--> 752\u001b[1;33m     \u001b[1;32mfor\u001b[0m \u001b[0mres\u001b[0m \u001b[1;32min\u001b[0m \u001b[0m_socket\u001b[0m\u001b[1;33m.\u001b[0m\u001b[0mgetaddrinfo\u001b[0m\u001b[1;33m(\u001b[0m\u001b[0mhost\u001b[0m\u001b[1;33m,\u001b[0m \u001b[0mport\u001b[0m\u001b[1;33m,\u001b[0m \u001b[0mfamily\u001b[0m\u001b[1;33m,\u001b[0m \u001b[0mtype\u001b[0m\u001b[1;33m,\u001b[0m \u001b[0mproto\u001b[0m\u001b[1;33m,\u001b[0m \u001b[0mflags\u001b[0m\u001b[1;33m)\u001b[0m\u001b[1;33m:\u001b[0m\u001b[1;33m\u001b[0m\u001b[1;33m\u001b[0m\u001b[0m\n\u001b[0m\u001b[0;32m    753\u001b[0m         \u001b[0maf\u001b[0m\u001b[1;33m,\u001b[0m \u001b[0msocktype\u001b[0m\u001b[1;33m,\u001b[0m \u001b[0mproto\u001b[0m\u001b[1;33m,\u001b[0m \u001b[0mcanonname\u001b[0m\u001b[1;33m,\u001b[0m \u001b[0msa\u001b[0m \u001b[1;33m=\u001b[0m \u001b[0mres\u001b[0m\u001b[1;33m\u001b[0m\u001b[1;33m\u001b[0m\u001b[0m\n",
      "\u001b[1;31mgaierror\u001b[0m: [Errno 11001] getaddrinfo failed",
      "\nDuring handling of the above exception, another exception occurred:\n",
      "\u001b[1;31mServerNotFoundError\u001b[0m                       Traceback (most recent call last)",
      "\u001b[1;32m~\\anaconda3\\envs\\CoastWatch\\lib\\site-packages\\google_auth_httplib2.py\u001b[0m in \u001b[0;36m__call__\u001b[1;34m(self, url, method, body, headers, timeout, **kwargs)\u001b[0m\n\u001b[0;32m    119\u001b[0m             response, data = self.http.request(\n\u001b[1;32m--> 120\u001b[1;33m                 \u001b[0murl\u001b[0m\u001b[1;33m,\u001b[0m \u001b[0mmethod\u001b[0m\u001b[1;33m=\u001b[0m\u001b[0mmethod\u001b[0m\u001b[1;33m,\u001b[0m \u001b[0mbody\u001b[0m\u001b[1;33m=\u001b[0m\u001b[0mbody\u001b[0m\u001b[1;33m,\u001b[0m \u001b[0mheaders\u001b[0m\u001b[1;33m=\u001b[0m\u001b[0mheaders\u001b[0m\u001b[1;33m,\u001b[0m \u001b[1;33m**\u001b[0m\u001b[0mkwargs\u001b[0m\u001b[1;33m\u001b[0m\u001b[1;33m\u001b[0m\u001b[0m\n\u001b[0m\u001b[0;32m    121\u001b[0m             )\n",
      "\u001b[1;32m~\\anaconda3\\envs\\CoastWatch\\lib\\site-packages\\httplib2\\__init__.py\u001b[0m in \u001b[0;36mrequest\u001b[1;34m(self, uri, method, body, headers, redirections, connection_type)\u001b[0m\n\u001b[0;32m   1725\u001b[0m                     (response, content) = self._request(\n\u001b[1;32m-> 1726\u001b[1;33m                         \u001b[0mconn\u001b[0m\u001b[1;33m,\u001b[0m \u001b[0mauthority\u001b[0m\u001b[1;33m,\u001b[0m \u001b[0muri\u001b[0m\u001b[1;33m,\u001b[0m \u001b[0mrequest_uri\u001b[0m\u001b[1;33m,\u001b[0m \u001b[0mmethod\u001b[0m\u001b[1;33m,\u001b[0m \u001b[0mbody\u001b[0m\u001b[1;33m,\u001b[0m \u001b[0mheaders\u001b[0m\u001b[1;33m,\u001b[0m \u001b[0mredirections\u001b[0m\u001b[1;33m,\u001b[0m \u001b[0mcachekey\u001b[0m\u001b[1;33m,\u001b[0m\u001b[1;33m\u001b[0m\u001b[1;33m\u001b[0m\u001b[0m\n\u001b[0m\u001b[0;32m   1727\u001b[0m                     )\n",
      "\u001b[1;32m~\\anaconda3\\envs\\CoastWatch\\lib\\site-packages\\httplib2\\__init__.py\u001b[0m in \u001b[0;36m_request\u001b[1;34m(self, conn, host, absolute_uri, request_uri, method, body, headers, redirections, cachekey)\u001b[0m\n\u001b[0;32m   1440\u001b[0m \u001b[1;33m\u001b[0m\u001b[0m\n\u001b[1;32m-> 1441\u001b[1;33m         \u001b[1;33m(\u001b[0m\u001b[0mresponse\u001b[0m\u001b[1;33m,\u001b[0m \u001b[0mcontent\u001b[0m\u001b[1;33m)\u001b[0m \u001b[1;33m=\u001b[0m \u001b[0mself\u001b[0m\u001b[1;33m.\u001b[0m\u001b[0m_conn_request\u001b[0m\u001b[1;33m(\u001b[0m\u001b[0mconn\u001b[0m\u001b[1;33m,\u001b[0m \u001b[0mrequest_uri\u001b[0m\u001b[1;33m,\u001b[0m \u001b[0mmethod\u001b[0m\u001b[1;33m,\u001b[0m \u001b[0mbody\u001b[0m\u001b[1;33m,\u001b[0m \u001b[0mheaders\u001b[0m\u001b[1;33m)\u001b[0m\u001b[1;33m\u001b[0m\u001b[1;33m\u001b[0m\u001b[0m\n\u001b[0m\u001b[0;32m   1442\u001b[0m \u001b[1;33m\u001b[0m\u001b[0m\n",
      "\u001b[1;32m~\\anaconda3\\envs\\CoastWatch\\lib\\site-packages\\httplib2\\__init__.py\u001b[0m in \u001b[0;36m_conn_request\u001b[1;34m(self, conn, request_uri, method, body, headers)\u001b[0m\n\u001b[0;32m   1369\u001b[0m                 \u001b[0mconn\u001b[0m\u001b[1;33m.\u001b[0m\u001b[0mclose\u001b[0m\u001b[1;33m(\u001b[0m\u001b[1;33m)\u001b[0m\u001b[1;33m\u001b[0m\u001b[1;33m\u001b[0m\u001b[0m\n\u001b[1;32m-> 1370\u001b[1;33m                 \u001b[1;32mraise\u001b[0m \u001b[0mServerNotFoundError\u001b[0m\u001b[1;33m(\u001b[0m\u001b[1;34m\"Unable to find the server at %s\"\u001b[0m \u001b[1;33m%\u001b[0m \u001b[0mconn\u001b[0m\u001b[1;33m.\u001b[0m\u001b[0mhost\u001b[0m\u001b[1;33m)\u001b[0m\u001b[1;33m\u001b[0m\u001b[1;33m\u001b[0m\u001b[0m\n\u001b[0m\u001b[0;32m   1371\u001b[0m             \u001b[1;32mexcept\u001b[0m \u001b[0msocket\u001b[0m\u001b[1;33m.\u001b[0m\u001b[0merror\u001b[0m \u001b[1;32mas\u001b[0m \u001b[0me\u001b[0m\u001b[1;33m:\u001b[0m\u001b[1;33m\u001b[0m\u001b[1;33m\u001b[0m\u001b[0m\n",
      "\u001b[1;31mServerNotFoundError\u001b[0m: Unable to find the server at accounts.google.com",
      "\nDuring handling of the above exception, another exception occurred:\n",
      "\u001b[1;31mTransportError\u001b[0m                            Traceback (most recent call last)",
      "\u001b[1;32m~\\AppData\\Local\\Temp/ipykernel_14608/774175019.py\u001b[0m in \u001b[0;36m<module>\u001b[1;34m\u001b[0m\n\u001b[0;32m     17\u001b[0m     \u001b[0mgdf\u001b[0m \u001b[1;33m=\u001b[0m \u001b[0mToolbox\u001b[0m\u001b[1;33m.\u001b[0m\u001b[0moutput_to_gdf\u001b[0m\u001b[1;33m(\u001b[0m\u001b[0mshore\u001b[0m\u001b[1;33m,\u001b[0m \u001b[0mgeomtype\u001b[0m\u001b[1;33m)\u001b[0m\u001b[1;33m\u001b[0m\u001b[1;33m\u001b[0m\u001b[0m\n\u001b[0;32m     18\u001b[0m     \u001b[0mLine\u001b[0m \u001b[1;33m=\u001b[0m \u001b[0mgeemap\u001b[0m\u001b[1;33m.\u001b[0m\u001b[0mgeopandas_to_ee\u001b[0m\u001b[1;33m(\u001b[0m\u001b[0mgdf\u001b[0m\u001b[1;33m,\u001b[0m \u001b[0mgeodesic\u001b[0m\u001b[1;33m=\u001b[0m\u001b[1;32mTrue\u001b[0m\u001b[1;33m)\u001b[0m\u001b[1;33m\u001b[0m\u001b[1;33m\u001b[0m\u001b[0m\n\u001b[1;32m---> 19\u001b[1;33m     \u001b[0mMap\u001b[0m\u001b[1;33m.\u001b[0m\u001b[0maddLayer\u001b[0m\u001b[1;33m(\u001b[0m\u001b[0mLine\u001b[0m\u001b[1;33m,\u001b[0m\u001b[1;33m{\u001b[0m\u001b[1;34m'color'\u001b[0m\u001b[1;33m:\u001b[0m \u001b[0mstr\u001b[0m\u001b[1;33m(\u001b[0m\u001b[0mpalette\u001b[0m\u001b[1;33m[\u001b[0m\u001b[0mi\u001b[0m\u001b[1;33m]\u001b[0m\u001b[1;33m)\u001b[0m\u001b[1;33m}\u001b[0m\u001b[1;33m,\u001b[0m\u001b[1;34m'coast'\u001b[0m\u001b[1;33m+\u001b[0m\u001b[0mstr\u001b[0m\u001b[1;33m(\u001b[0m\u001b[0mi\u001b[0m\u001b[1;33m)\u001b[0m\u001b[1;33m)\u001b[0m\u001b[1;33m\u001b[0m\u001b[1;33m\u001b[0m\u001b[0m\n\u001b[0m\u001b[0;32m     20\u001b[0m \u001b[1;33m\u001b[0m\u001b[0m\n\u001b[0;32m     21\u001b[0m \u001b[0mMap\u001b[0m\u001b[1;33m\u001b[0m\u001b[1;33m\u001b[0m\u001b[0m\n",
      "\u001b[1;32m~\\anaconda3\\envs\\CoastWatch\\lib\\site-packages\\geemap\\geemap.py\u001b[0m in \u001b[0;36madd_ee_layer\u001b[1;34m(self, ee_object, vis_params, name, shown, opacity)\u001b[0m\n\u001b[0;32m   1388\u001b[0m                 \u001b[1;32mraise\u001b[0m \u001b[0mException\u001b[0m\u001b[1;33m(\u001b[0m\u001b[0me\u001b[0m\u001b[1;33m)\u001b[0m\u001b[1;33m\u001b[0m\u001b[1;33m\u001b[0m\u001b[0m\n\u001b[0;32m   1389\u001b[0m \u001b[1;33m\u001b[0m\u001b[0m\n\u001b[1;32m-> 1390\u001b[1;33m         \u001b[0mmap_id_dict\u001b[0m \u001b[1;33m=\u001b[0m \u001b[0mee\u001b[0m\u001b[1;33m.\u001b[0m\u001b[0mImage\u001b[0m\u001b[1;33m(\u001b[0m\u001b[0mimage\u001b[0m\u001b[1;33m)\u001b[0m\u001b[1;33m.\u001b[0m\u001b[0mgetMapId\u001b[0m\u001b[1;33m(\u001b[0m\u001b[0mvis_params\u001b[0m\u001b[1;33m)\u001b[0m\u001b[1;33m\u001b[0m\u001b[1;33m\u001b[0m\u001b[0m\n\u001b[0m\u001b[0;32m   1391\u001b[0m         tile_layer = ipyleaflet.TileLayer(\n\u001b[0;32m   1392\u001b[0m             \u001b[0murl\u001b[0m\u001b[1;33m=\u001b[0m\u001b[0mmap_id_dict\u001b[0m\u001b[1;33m[\u001b[0m\u001b[1;34m\"tile_fetcher\"\u001b[0m\u001b[1;33m]\u001b[0m\u001b[1;33m.\u001b[0m\u001b[0murl_format\u001b[0m\u001b[1;33m,\u001b[0m\u001b[1;33m\u001b[0m\u001b[1;33m\u001b[0m\u001b[0m\n",
      "\u001b[1;32m~\\anaconda3\\envs\\CoastWatch\\lib\\site-packages\\ee\\image.py\u001b[0m in \u001b[0;36mgetMapId\u001b[1;34m(self, vis_params)\u001b[0m\n\u001b[0;32m    129\u001b[0m     \u001b[0mvis_image\u001b[0m\u001b[1;33m,\u001b[0m \u001b[0mrequest\u001b[0m \u001b[1;33m=\u001b[0m \u001b[0mself\u001b[0m\u001b[1;33m.\u001b[0m\u001b[0m_apply_visualization\u001b[0m\u001b[1;33m(\u001b[0m\u001b[0mvis_params\u001b[0m\u001b[1;33m)\u001b[0m\u001b[1;33m\u001b[0m\u001b[1;33m\u001b[0m\u001b[0m\n\u001b[0;32m    130\u001b[0m     \u001b[0mrequest\u001b[0m\u001b[1;33m[\u001b[0m\u001b[1;34m'image'\u001b[0m\u001b[1;33m]\u001b[0m \u001b[1;33m=\u001b[0m \u001b[0mvis_image\u001b[0m\u001b[1;33m\u001b[0m\u001b[1;33m\u001b[0m\u001b[0m\n\u001b[1;32m--> 131\u001b[1;33m     \u001b[0mresponse\u001b[0m \u001b[1;33m=\u001b[0m \u001b[0mdata\u001b[0m\u001b[1;33m.\u001b[0m\u001b[0mgetMapId\u001b[0m\u001b[1;33m(\u001b[0m\u001b[0mrequest\u001b[0m\u001b[1;33m)\u001b[0m\u001b[1;33m\u001b[0m\u001b[1;33m\u001b[0m\u001b[0m\n\u001b[0m\u001b[0;32m    132\u001b[0m     \u001b[0mresponse\u001b[0m\u001b[1;33m[\u001b[0m\u001b[1;34m'image'\u001b[0m\u001b[1;33m]\u001b[0m \u001b[1;33m=\u001b[0m \u001b[0mself\u001b[0m\u001b[1;33m\u001b[0m\u001b[1;33m\u001b[0m\u001b[0m\n\u001b[0;32m    133\u001b[0m     \u001b[1;32mreturn\u001b[0m \u001b[0mresponse\u001b[0m\u001b[1;33m\u001b[0m\u001b[1;33m\u001b[0m\u001b[0m\n",
      "\u001b[1;32m~\\anaconda3\\envs\\CoastWatch\\lib\\site-packages\\ee\\data.py\u001b[0m in \u001b[0;36mgetMapId\u001b[1;34m(params)\u001b[0m\n\u001b[0;32m    595\u001b[0m     result = _execute_cloud_call(\n\u001b[0;32m    596\u001b[0m         _get_cloud_api_resource().projects().maps().create(\n\u001b[1;32m--> 597\u001b[1;33m             parent=_get_projects_path(), fields='name', body=request))\n\u001b[0m\u001b[0;32m    598\u001b[0m     \u001b[0mmap_name\u001b[0m \u001b[1;33m=\u001b[0m \u001b[0mresult\u001b[0m\u001b[1;33m[\u001b[0m\u001b[1;34m'name'\u001b[0m\u001b[1;33m]\u001b[0m\u001b[1;33m\u001b[0m\u001b[1;33m\u001b[0m\u001b[0m\n\u001b[0;32m    599\u001b[0m     url_format = '%s/%s/%s/tiles/{z}/{x}/{y}' % (\n",
      "\u001b[1;32m~\\anaconda3\\envs\\CoastWatch\\lib\\site-packages\\ee\\data.py\u001b[0m in \u001b[0;36m_execute_cloud_call\u001b[1;34m(call, num_retries)\u001b[0m\n\u001b[0;32m    343\u001b[0m   \"\"\"\n\u001b[0;32m    344\u001b[0m   \u001b[1;32mtry\u001b[0m\u001b[1;33m:\u001b[0m\u001b[1;33m\u001b[0m\u001b[1;33m\u001b[0m\u001b[0m\n\u001b[1;32m--> 345\u001b[1;33m     \u001b[1;32mreturn\u001b[0m \u001b[0mcall\u001b[0m\u001b[1;33m.\u001b[0m\u001b[0mexecute\u001b[0m\u001b[1;33m(\u001b[0m\u001b[0mnum_retries\u001b[0m\u001b[1;33m=\u001b[0m\u001b[0mnum_retries\u001b[0m\u001b[1;33m)\u001b[0m\u001b[1;33m\u001b[0m\u001b[1;33m\u001b[0m\u001b[0m\n\u001b[0m\u001b[0;32m    346\u001b[0m   \u001b[1;32mexcept\u001b[0m \u001b[0mgoogleapiclient\u001b[0m\u001b[1;33m.\u001b[0m\u001b[0merrors\u001b[0m\u001b[1;33m.\u001b[0m\u001b[0mHttpError\u001b[0m \u001b[1;32mas\u001b[0m \u001b[0me\u001b[0m\u001b[1;33m:\u001b[0m\u001b[1;33m\u001b[0m\u001b[1;33m\u001b[0m\u001b[0m\n\u001b[0;32m    347\u001b[0m     \u001b[1;32mraise\u001b[0m \u001b[0m_translate_cloud_exception\u001b[0m\u001b[1;33m(\u001b[0m\u001b[0me\u001b[0m\u001b[1;33m)\u001b[0m\u001b[1;33m\u001b[0m\u001b[1;33m\u001b[0m\u001b[0m\n",
      "\u001b[1;32m~\\anaconda3\\envs\\CoastWatch\\lib\\site-packages\\googleapiclient\\_helpers.py\u001b[0m in \u001b[0;36mpositional_wrapper\u001b[1;34m(*args, **kwargs)\u001b[0m\n\u001b[0;32m    132\u001b[0m                 \u001b[1;32melif\u001b[0m \u001b[0mpositional_parameters_enforcement\u001b[0m \u001b[1;33m==\u001b[0m \u001b[0mPOSITIONAL_WARNING\u001b[0m\u001b[1;33m:\u001b[0m\u001b[1;33m\u001b[0m\u001b[1;33m\u001b[0m\u001b[0m\n\u001b[0;32m    133\u001b[0m                     \u001b[0mlogger\u001b[0m\u001b[1;33m.\u001b[0m\u001b[0mwarning\u001b[0m\u001b[1;33m(\u001b[0m\u001b[0mmessage\u001b[0m\u001b[1;33m)\u001b[0m\u001b[1;33m\u001b[0m\u001b[1;33m\u001b[0m\u001b[0m\n\u001b[1;32m--> 134\u001b[1;33m             \u001b[1;32mreturn\u001b[0m \u001b[0mwrapped\u001b[0m\u001b[1;33m(\u001b[0m\u001b[1;33m*\u001b[0m\u001b[0margs\u001b[0m\u001b[1;33m,\u001b[0m \u001b[1;33m**\u001b[0m\u001b[0mkwargs\u001b[0m\u001b[1;33m)\u001b[0m\u001b[1;33m\u001b[0m\u001b[1;33m\u001b[0m\u001b[0m\n\u001b[0m\u001b[0;32m    135\u001b[0m \u001b[1;33m\u001b[0m\u001b[0m\n\u001b[0;32m    136\u001b[0m         \u001b[1;32mreturn\u001b[0m \u001b[0mpositional_wrapper\u001b[0m\u001b[1;33m\u001b[0m\u001b[1;33m\u001b[0m\u001b[0m\n",
      "\u001b[1;32m~\\anaconda3\\envs\\CoastWatch\\lib\\site-packages\\googleapiclient\\http.py\u001b[0m in \u001b[0;36mexecute\u001b[1;34m(self, http, num_retries)\u001b[0m\n\u001b[0;32m    907\u001b[0m             \u001b[0mmethod\u001b[0m\u001b[1;33m=\u001b[0m\u001b[0mstr\u001b[0m\u001b[1;33m(\u001b[0m\u001b[0mself\u001b[0m\u001b[1;33m.\u001b[0m\u001b[0mmethod\u001b[0m\u001b[1;33m)\u001b[0m\u001b[1;33m,\u001b[0m\u001b[1;33m\u001b[0m\u001b[1;33m\u001b[0m\u001b[0m\n\u001b[0;32m    908\u001b[0m             \u001b[0mbody\u001b[0m\u001b[1;33m=\u001b[0m\u001b[0mself\u001b[0m\u001b[1;33m.\u001b[0m\u001b[0mbody\u001b[0m\u001b[1;33m,\u001b[0m\u001b[1;33m\u001b[0m\u001b[1;33m\u001b[0m\u001b[0m\n\u001b[1;32m--> 909\u001b[1;33m             \u001b[0mheaders\u001b[0m\u001b[1;33m=\u001b[0m\u001b[0mself\u001b[0m\u001b[1;33m.\u001b[0m\u001b[0mheaders\u001b[0m\u001b[1;33m,\u001b[0m\u001b[1;33m\u001b[0m\u001b[1;33m\u001b[0m\u001b[0m\n\u001b[0m\u001b[0;32m    910\u001b[0m         )\n\u001b[0;32m    911\u001b[0m \u001b[1;33m\u001b[0m\u001b[0m\n",
      "\u001b[1;32m~\\anaconda3\\envs\\CoastWatch\\lib\\site-packages\\googleapiclient\\http.py\u001b[0m in \u001b[0;36m_retry_request\u001b[1;34m(http, num_retries, req_type, sleep, rand, uri, method, *args, **kwargs)\u001b[0m\n\u001b[0;32m    175\u001b[0m         \u001b[1;32mtry\u001b[0m\u001b[1;33m:\u001b[0m\u001b[1;33m\u001b[0m\u001b[1;33m\u001b[0m\u001b[0m\n\u001b[0;32m    176\u001b[0m             \u001b[0mexception\u001b[0m \u001b[1;33m=\u001b[0m \u001b[1;32mNone\u001b[0m\u001b[1;33m\u001b[0m\u001b[1;33m\u001b[0m\u001b[0m\n\u001b[1;32m--> 177\u001b[1;33m             \u001b[0mresp\u001b[0m\u001b[1;33m,\u001b[0m \u001b[0mcontent\u001b[0m \u001b[1;33m=\u001b[0m \u001b[0mhttp\u001b[0m\u001b[1;33m.\u001b[0m\u001b[0mrequest\u001b[0m\u001b[1;33m(\u001b[0m\u001b[0muri\u001b[0m\u001b[1;33m,\u001b[0m \u001b[0mmethod\u001b[0m\u001b[1;33m,\u001b[0m \u001b[1;33m*\u001b[0m\u001b[0margs\u001b[0m\u001b[1;33m,\u001b[0m \u001b[1;33m**\u001b[0m\u001b[0mkwargs\u001b[0m\u001b[1;33m)\u001b[0m\u001b[1;33m\u001b[0m\u001b[1;33m\u001b[0m\u001b[0m\n\u001b[0m\u001b[0;32m    178\u001b[0m         \u001b[1;31m# Retry on SSL errors and socket timeout errors.\u001b[0m\u001b[1;33m\u001b[0m\u001b[1;33m\u001b[0m\u001b[1;33m\u001b[0m\u001b[0m\n\u001b[0;32m    179\u001b[0m         \u001b[1;32mexcept\u001b[0m \u001b[0m_ssl_SSLError\u001b[0m \u001b[1;32mas\u001b[0m \u001b[0mssl_error\u001b[0m\u001b[1;33m:\u001b[0m\u001b[1;33m\u001b[0m\u001b[1;33m\u001b[0m\u001b[0m\n",
      "\u001b[1;32m~\\anaconda3\\envs\\CoastWatch\\lib\\site-packages\\google_auth_httplib2.py\u001b[0m in \u001b[0;36mrequest\u001b[1;34m(self, uri, method, body, headers, redirections, connection_type, **kwargs)\u001b[0m\n\u001b[0;32m    207\u001b[0m         \u001b[0mrequest_headers\u001b[0m \u001b[1;33m=\u001b[0m \u001b[0mheaders\u001b[0m\u001b[1;33m.\u001b[0m\u001b[0mcopy\u001b[0m\u001b[1;33m(\u001b[0m\u001b[1;33m)\u001b[0m \u001b[1;32mif\u001b[0m \u001b[0mheaders\u001b[0m \u001b[1;32mis\u001b[0m \u001b[1;32mnot\u001b[0m \u001b[1;32mNone\u001b[0m \u001b[1;32melse\u001b[0m \u001b[1;33m{\u001b[0m\u001b[1;33m}\u001b[0m\u001b[1;33m\u001b[0m\u001b[1;33m\u001b[0m\u001b[0m\n\u001b[0;32m    208\u001b[0m \u001b[1;33m\u001b[0m\u001b[0m\n\u001b[1;32m--> 209\u001b[1;33m         \u001b[0mself\u001b[0m\u001b[1;33m.\u001b[0m\u001b[0mcredentials\u001b[0m\u001b[1;33m.\u001b[0m\u001b[0mbefore_request\u001b[0m\u001b[1;33m(\u001b[0m\u001b[0mself\u001b[0m\u001b[1;33m.\u001b[0m\u001b[0m_request\u001b[0m\u001b[1;33m,\u001b[0m \u001b[0mmethod\u001b[0m\u001b[1;33m,\u001b[0m \u001b[0muri\u001b[0m\u001b[1;33m,\u001b[0m \u001b[0mrequest_headers\u001b[0m\u001b[1;33m)\u001b[0m\u001b[1;33m\u001b[0m\u001b[1;33m\u001b[0m\u001b[0m\n\u001b[0m\u001b[0;32m    210\u001b[0m \u001b[1;33m\u001b[0m\u001b[0m\n\u001b[0;32m    211\u001b[0m         \u001b[1;31m# Check if the body is a file-like stream, and if so, save the body\u001b[0m\u001b[1;33m\u001b[0m\u001b[1;33m\u001b[0m\u001b[1;33m\u001b[0m\u001b[0m\n",
      "\u001b[1;32m~\\anaconda3\\envs\\CoastWatch\\lib\\site-packages\\google\\auth\\credentials.py\u001b[0m in \u001b[0;36mbefore_request\u001b[1;34m(self, request, method, url, headers)\u001b[0m\n\u001b[0;32m    131\u001b[0m         \u001b[1;31m# the http request.)\u001b[0m\u001b[1;33m\u001b[0m\u001b[1;33m\u001b[0m\u001b[1;33m\u001b[0m\u001b[0m\n\u001b[0;32m    132\u001b[0m         \u001b[1;32mif\u001b[0m \u001b[1;32mnot\u001b[0m \u001b[0mself\u001b[0m\u001b[1;33m.\u001b[0m\u001b[0mvalid\u001b[0m\u001b[1;33m:\u001b[0m\u001b[1;33m\u001b[0m\u001b[1;33m\u001b[0m\u001b[0m\n\u001b[1;32m--> 133\u001b[1;33m             \u001b[0mself\u001b[0m\u001b[1;33m.\u001b[0m\u001b[0mrefresh\u001b[0m\u001b[1;33m(\u001b[0m\u001b[0mrequest\u001b[0m\u001b[1;33m)\u001b[0m\u001b[1;33m\u001b[0m\u001b[1;33m\u001b[0m\u001b[0m\n\u001b[0m\u001b[0;32m    134\u001b[0m         \u001b[0mself\u001b[0m\u001b[1;33m.\u001b[0m\u001b[0mapply\u001b[0m\u001b[1;33m(\u001b[0m\u001b[0mheaders\u001b[0m\u001b[1;33m)\u001b[0m\u001b[1;33m\u001b[0m\u001b[1;33m\u001b[0m\u001b[0m\n\u001b[0;32m    135\u001b[0m \u001b[1;33m\u001b[0m\u001b[0m\n",
      "\u001b[1;32m~\\anaconda3\\envs\\CoastWatch\\lib\\site-packages\\google\\oauth2\\credentials.py\u001b[0m in \u001b[0;36mrefresh\u001b[1;34m(self, request)\u001b[0m\n\u001b[0;32m    233\u001b[0m             \u001b[0mself\u001b[0m\u001b[1;33m.\u001b[0m\u001b[0m_client_secret\u001b[0m\u001b[1;33m,\u001b[0m\u001b[1;33m\u001b[0m\u001b[1;33m\u001b[0m\u001b[0m\n\u001b[0;32m    234\u001b[0m             \u001b[0mscopes\u001b[0m\u001b[1;33m=\u001b[0m\u001b[0mscopes\u001b[0m\u001b[1;33m,\u001b[0m\u001b[1;33m\u001b[0m\u001b[1;33m\u001b[0m\u001b[0m\n\u001b[1;32m--> 235\u001b[1;33m             \u001b[0mrapt_token\u001b[0m\u001b[1;33m=\u001b[0m\u001b[0mself\u001b[0m\u001b[1;33m.\u001b[0m\u001b[0m_rapt_token\u001b[0m\u001b[1;33m,\u001b[0m\u001b[1;33m\u001b[0m\u001b[1;33m\u001b[0m\u001b[0m\n\u001b[0m\u001b[0;32m    236\u001b[0m         )\n\u001b[0;32m    237\u001b[0m \u001b[1;33m\u001b[0m\u001b[0m\n",
      "\u001b[1;32m~\\anaconda3\\envs\\CoastWatch\\lib\\site-packages\\google\\oauth2\\reauth.py\u001b[0m in \u001b[0;36mrefresh_grant\u001b[1;34m(request, token_uri, refresh_token, client_id, client_secret, scopes, rapt_token)\u001b[0m\n\u001b[0;32m    317\u001b[0m \u001b[1;33m\u001b[0m\u001b[0m\n\u001b[0;32m    318\u001b[0m     response_status_ok, response_data = _client._token_endpoint_request_no_throw(\n\u001b[1;32m--> 319\u001b[1;33m         \u001b[0mrequest\u001b[0m\u001b[1;33m,\u001b[0m \u001b[0mtoken_uri\u001b[0m\u001b[1;33m,\u001b[0m \u001b[0mbody\u001b[0m\u001b[1;33m\u001b[0m\u001b[1;33m\u001b[0m\u001b[0m\n\u001b[0m\u001b[0;32m    320\u001b[0m     )\n\u001b[0;32m    321\u001b[0m     if (\n",
      "\u001b[1;32m~\\anaconda3\\envs\\CoastWatch\\lib\\site-packages\\google\\oauth2\\_client.py\u001b[0m in \u001b[0;36m_token_endpoint_request_no_throw\u001b[1;34m(request, token_uri, body, access_token, use_json)\u001b[0m\n\u001b[0;32m    113\u001b[0m     \u001b[1;31m# occurs.\u001b[0m\u001b[1;33m\u001b[0m\u001b[1;33m\u001b[0m\u001b[1;33m\u001b[0m\u001b[0m\n\u001b[0;32m    114\u001b[0m     \u001b[1;32mwhile\u001b[0m \u001b[1;32mTrue\u001b[0m\u001b[1;33m:\u001b[0m\u001b[1;33m\u001b[0m\u001b[1;33m\u001b[0m\u001b[0m\n\u001b[1;32m--> 115\u001b[1;33m         \u001b[0mresponse\u001b[0m \u001b[1;33m=\u001b[0m \u001b[0mrequest\u001b[0m\u001b[1;33m(\u001b[0m\u001b[0mmethod\u001b[0m\u001b[1;33m=\u001b[0m\u001b[1;34m\"POST\"\u001b[0m\u001b[1;33m,\u001b[0m \u001b[0murl\u001b[0m\u001b[1;33m=\u001b[0m\u001b[0mtoken_uri\u001b[0m\u001b[1;33m,\u001b[0m \u001b[0mheaders\u001b[0m\u001b[1;33m=\u001b[0m\u001b[0mheaders\u001b[0m\u001b[1;33m,\u001b[0m \u001b[0mbody\u001b[0m\u001b[1;33m=\u001b[0m\u001b[0mbody\u001b[0m\u001b[1;33m)\u001b[0m\u001b[1;33m\u001b[0m\u001b[1;33m\u001b[0m\u001b[0m\n\u001b[0m\u001b[0;32m    116\u001b[0m         response_body = (\n\u001b[0;32m    117\u001b[0m             \u001b[0mresponse\u001b[0m\u001b[1;33m.\u001b[0m\u001b[0mdata\u001b[0m\u001b[1;33m.\u001b[0m\u001b[0mdecode\u001b[0m\u001b[1;33m(\u001b[0m\u001b[1;34m\"utf-8\"\u001b[0m\u001b[1;33m)\u001b[0m\u001b[1;33m\u001b[0m\u001b[1;33m\u001b[0m\u001b[0m\n",
      "\u001b[1;32m~\\anaconda3\\envs\\CoastWatch\\lib\\site-packages\\google_auth_httplib2.py\u001b[0m in \u001b[0;36m__call__\u001b[1;34m(self, url, method, body, headers, timeout, **kwargs)\u001b[0m\n\u001b[0;32m    124\u001b[0m         \u001b[1;31m# needs to be fixed there.  Catch the error for the meanwhile.\u001b[0m\u001b[1;33m\u001b[0m\u001b[1;33m\u001b[0m\u001b[1;33m\u001b[0m\u001b[0m\n\u001b[0;32m    125\u001b[0m         \u001b[1;32mexcept\u001b[0m \u001b[1;33m(\u001b[0m\u001b[0mhttplib2\u001b[0m\u001b[1;33m.\u001b[0m\u001b[0mHttpLib2Error\u001b[0m\u001b[1;33m,\u001b[0m \u001b[0mhttp_client\u001b[0m\u001b[1;33m.\u001b[0m\u001b[0mHTTPException\u001b[0m\u001b[1;33m)\u001b[0m \u001b[1;32mas\u001b[0m \u001b[0mexc\u001b[0m\u001b[1;33m:\u001b[0m\u001b[1;33m\u001b[0m\u001b[1;33m\u001b[0m\u001b[0m\n\u001b[1;32m--> 126\u001b[1;33m             \u001b[1;32mraise\u001b[0m \u001b[0mexceptions\u001b[0m\u001b[1;33m.\u001b[0m\u001b[0mTransportError\u001b[0m\u001b[1;33m(\u001b[0m\u001b[0mexc\u001b[0m\u001b[1;33m)\u001b[0m\u001b[1;33m\u001b[0m\u001b[1;33m\u001b[0m\u001b[0m\n\u001b[0m\u001b[0;32m    127\u001b[0m \u001b[1;33m\u001b[0m\u001b[0m\n\u001b[0;32m    128\u001b[0m \u001b[1;33m\u001b[0m\u001b[0m\n",
      "\u001b[1;31mTransportError\u001b[0m: Unable to find the server at accounts.google.com"
     ]
    }
   ],
   "source": [
    "#Creates map object centred at ROI + adds compiled satellite image as base-layer\n",
    "#Map = geemap.Map(center=[polygon[0][0][1],polygon[0][0][0]],zoom=12)\n",
    "#Map.add_basemap('HYBRID')\n",
    "\n",
    "#Generates colours for lines to be drawn in. Check out https://seaborn.pydata.org/tutorial/color_palettes.html for colour options...\n",
    "palette = sns.color_palette(\"bright\", len(output['shorelines']))\n",
    "palette = palette.as_hex()\n",
    "\n",
    "#Choose 'points' or 'lines' for the layer geometry\n",
    "geomtype = 'points'\n",
    "\n",
    "for i in range(len(output['shorelines'])):\n",
    "    shore = dict([])\n",
    "    if len(output_latlon['shorelines'][i])==0:\n",
    "        continue\n",
    "    shore = {'dates':[output_latlon['dates'][i]], 'shorelines':[output_latlon['shorelines'][i]], 'filename':[output_latlon['filename'][i]], 'cloud_cover':[output_latlon['cloud_cover'][i]], 'idx':[output_latlon['idx'][i]], 'Otsu_threshold':[output_latlon['Otsu_threshold'][i]], 'satname':[output_latlon['satname'][i]]}\n",
    "    gdf = Toolbox.output_to_gdf(shore, geomtype)\n",
    "    Line = geemap.geopandas_to_ee(gdf, geodesic=True)\n",
    "    Map.addLayer(Line,{'color': str(palette[i])},'coast'+str(i))\n",
    "\n",
    "Map"
   ]
  },
  {
   "cell_type": "code",
   "execution_count": 24,
   "metadata": {},
   "outputs": [
    {
     "data": {
      "image/svg+xml": [
       "<svg xmlns=\"http://www.w3.org/2000/svg\" xmlns:xlink=\"http://www.w3.org/1999/xlink\" width=\"300\" height=\"300\" viewBox=\"511349.9771928509 6243876.056894489 1771.025276573724 2801.144388075918\" preserveAspectRatio=\"xMinYMin meet\"><g transform=\"matrix(1,0,0,-1,0,12490553.258177053)\"><polyline fill=\"none\" stroke=\"#66cc99\" stroke-width=\"18.67429592050612\" points=\"511453.7232812982,6246573.4551941175 511461.63039946865,6246563.959304142 511468.5401587283,6246548.959304142 511468.7232812982,6246548.703782921 511479.9193269807,6246533.959304142 511483.7232812982,6246525.284229433 511489.4329301272,6246518.959304142 511497.22512959276,6246503.959304142 511498.7232812982,6246499.581069751 511506.4301609566,6246488.959304142 511511.3770887421,6246473.959304142 511513.7232812982,6246467.347440256 511519.2549709687,6246458.959304142 511525.7939865169,6246443.959304142 511528.7232812982,6246435.866067162 511534.64239959983,6246428.959304142 511538.75317021715,6246413.959304142 511543.2571429764,6246398.959304142 511543.7232812982,6246397.391055538 511550.5631309673,6246383.959304142 511555.4083556051,6246368.959304142 511558.7232812982,6246359.942953259 511563.28578604356,6246353.959304142 511571.00848842465,6246338.959304142 511573.7232812982,6246329.232452585 511578.0512292634,6246323.959304142 511581.3383961262,6246308.959304142 512773.7232812982,6244419.055356391 512773.92669539346,6244418.959304142 512788.7232812982,6244415.762781274 512803.7232812982,6244414.848918929 512808.5787029755,6244418.959304142 512818.7232812982,6244426.100225849 512833.7232812982,6244426.820559887 512848.7232812982,6244427.05077209 512860.5559912642,6244418.959304142 512863.0348304387,6244403.959304142 512863.7232812982,6244403.266057776 512878.7232812982,6244402.284220509 512893.7232812982,6244400.789875741 512908.7232812982,6244397.881154554 512923.7232812982,6244397.235749652 512938.7232812982,6244398.180865762 512953.7232812982,6244397.819903722 512968.7232812982,6244394.465251726 512983.7232812982,6244394.17547943 512998.7232812982,6244390.484264752 513005.9133638896,6244388.959304142 513013.7232812982,6244382.904704721 513017.25638097734,6244103.959304142 513014.47407233436,6244118.959304142 513013.7232812982,6244120.805196568 513004.62044646865,6244133.959304142 512998.7232812982,6244146.68407196 512992.9954225792,6244133.959304142 512995.2675156321,6244118.959304142 512998.7232812982,6244112.650699167 513006.77921479,6244103.959304142 513013.7232812982,6244099.644890632 513017.25638097734,6244103.959304142 512878.7232812982,6244002.468639818 512886.76032345893,6243998.959304142 512893.7232812982,6243995.41338842 512908.7232812982,6243988.07416863 512918.7820702727,6243983.959304142 512923.7232812982,6243979.802982936 512938.7232812982,6243983.502501668 512939.788058915,6243983.959304142 512944.4507599927,6243998.959304142 512938.7232812982,6244012.576054871 512928.2756600232,6244013.959304142 512928.58788266993,6244028.959304142 512923.7232812982,6244031.06919218 512913.92435507575,6244043.959304142 512908.7232812982,6244052.673944817 512893.7232812982,6244058.462309317 512890.32195981435,6244043.959304142 512883.72573776724,6244028.959304142 512878.7232812982,6244026.515309871 512863.7232812982,6244023.278757768\" opacity=\"0.8\" /></g></svg>"
      ],
      "text/plain": [
       "<shapely.geometry.linestring.LineString at 0x1e31d603288>"
      ]
     },
     "execution_count": 24,
     "metadata": {},
     "output_type": "execute_result"
    }
   ],
   "source": [
    "LineString(output['shorelines'][1])\n",
    "#LineString(output['shorelines'][0])\n"
   ]
  },
  {
   "cell_type": "code",
   "execution_count": 32,
   "metadata": {},
   "outputs": [],
   "source": [
    "#Saves the veglines as individual shape-files locally under /Veglines.\n",
    "direc = os.path.join(filepath, '/Veglines')\n",
    "geomtype = 'lines'\n",
    "name_prefix = 'Data/' + sitename + '/Veglines'\n",
    "\n",
    "if os.path.isdir(direc) is False:\n",
    "    os.mkdir(direc)\n",
    "\n",
    "Toolbox.save_shapefiles(output_latlon, geomtype, name_prefix, sitename)\n",
    "\n",
    "ref_line = np.delete(settings['reference_shoreline'],2,1)\n",
    "ref = {'dates':['3000-12-30'], 'shorelines':[ref_line], 'filename':[0], 'cloud_cover':[0], 'geoaccuracy':[0], 'idx':[0], 'Otsu_threshold':[0], 'satname':[0]}\n",
    "    \n",
    "Toolbox.save_shapefiles(ref, geomtype, name_prefix, sitename)"
   ]
  },
  {
   "cell_type": "code",
   "execution_count": null,
   "metadata": {},
   "outputs": [],
   "source": [
    "#Produces Transects and Coast shape-files for the reference line\n",
    "\n",
    "SmoothingWindowSize = 21\n",
    "NoSmooths = 100\n",
    "TransectSpacing = 10\n",
    "DistanceInland = 350\n",
    "DistanceOffshore = 350\n",
    "BasePath = 'Data/' + sitename + '/Veglines'\n",
    "\n",
    "Transects.produce_transects(SmoothingWindowSize, NoSmooths, TransectSpacing, DistanceInland, DistanceOffshore, image_epsg, sitename, BasePath + '/' + sitename + '_referenceLine')\n",
    "\n",
    "#(Optional) Produces transects for all produced lines\n",
    "#Transects.produce_transects_all(SmoothingWindowSize, NoSmooths, TransectSpacing, DistanceInland, DistanceOffshore, projection_epsg, BasePath)"
   ]
  },
  {
   "cell_type": "code",
   "execution_count": null,
   "metadata": {
    "scrolled": true
   },
   "outputs": [],
   "source": [
    "#Defines all transects in a library.\n",
    "\n",
    "TransectSpec =  '/' + sitename + '_referenceLine/Transect.shp'\n",
    "geo = gpd.read_file(BasePath+TransectSpec)\n",
    "\n",
    "transect_latlon, transect_proj = Transects.stuffIntoLibrary(geo, image_epsg, projection_epsg, filepath, sitename)"
   ]
  },
  {
   "cell_type": "code",
   "execution_count": null,
   "metadata": {},
   "outputs": [],
   "source": [
    "#Or just load them if already produced\n",
    "with open(os.path.join(filepath, sitename + '_transect_proj' + '.pkl'), 'rb') as f:\n",
    "    transect_proj = pickle.load(f)\n",
    "with open(os.path.join(filepath, sitename + '_transect_latlon' + '.pkl'), 'rb') as f:\n",
    "    transect_latlon = pickle.load(f)"
   ]
  },
  {
   "cell_type": "code",
   "execution_count": null,
   "metadata": {},
   "outputs": [],
   "source": [
    "settings['along_dist'] = 50\n",
    "cross_distance = Transects.compute_intersection(output_proj, transect_proj, settings, 'vegetation_') "
   ]
  },
  {
   "cell_type": "code",
   "execution_count": null,
   "metadata": {},
   "outputs": [],
   "source": [
    "#Or just load it if it already exists :)\n",
    "\n",
    "cross_distance = dict([])\n",
    "\n",
    "with open('Data/'+sitename+'/vegetation_transect_time_series.csv', newline='') as csvfile:\n",
    "    spamreader = csv.DictReader(csvfile, delimiter=',', quotechar='|')\n",
    "    for lines in spamreader:\n",
    "        for i in range(len(lines)-2):\n",
    "            cross_distance['Transect_'+str(i+1)] = []\n",
    "\n",
    "with open('Data/'+sitename+'/vegetation_transect_time_series.csv', newline='') as csvfile:\n",
    "    spamreader = csv.DictReader(csvfile, delimiter=',', quotechar='|')\n",
    "    for lines in spamreader:\n",
    "        for i in range(len(lines)-2):\n",
    "            transect_name = 'Transect Transect_' + str(i+1)\n",
    "            try:\n",
    "                cross_distance['Transect_'+str(i+1)].append(float(lines[transect_name]))\n",
    "            except:\n",
    "                cross_distance['Transect_'+str(i+1)].append(np.nan)"
   ]
  },
  {
   "cell_type": "markdown",
   "metadata": {},
   "source": [
    "## Analysis - Vegetation Edge"
   ]
  },
  {
   "cell_type": "code",
   "execution_count": null,
   "metadata": {},
   "outputs": [],
   "source": [
    "#Displays produced lines/transects\n",
    "\n",
    "fig = plt.figure(figsize=[15,8], tight_layout=True)\n",
    "plt.axis('equal')\n",
    "plt.xlabel('Eastings')\n",
    "plt.ylabel('Northings')\n",
    "#plt.xlim(509000,513000)\n",
    "#plt.ylim(6244400,6247250)\n",
    "plt.grid(linestyle=':', color='0.5')\n",
    "for i in range(len(output_proj['shorelines'])):\n",
    "    sl = output_proj['shorelines'][i]\n",
    "    date = output_proj['dates'][i]\n",
    "    plt.plot(sl[:,0], sl[:,1], '.')#, label=date.strptime('%d-%m-%Y'))\n",
    " \n",
    "for i,key in enumerate(list(transect_proj.keys())):\n",
    "    plt.plot(transect_proj[key][0,0],transect_proj[key][0,1], 'bo', ms=5)\n",
    "    plt.plot(transect_proj[key][:,0],transect_proj[key][:,1],'k-',lw=1)\n",
    "    #plt.text(transects_proj[key][0,0]-100, transects_proj[key][0,1]+100, key, va='center', ha='right', bbox=dict(boxstyle=\"square\", ec='k',fc='w'))\n",
    "plt.show()"
   ]
  },
  {
   "cell_type": "code",
   "execution_count": null,
   "metadata": {},
   "outputs": [],
   "source": [
    "#Displays the transects\n",
    "\n",
    "for i,key in enumerate(list(transect_proj.keys())):\n",
    "    plt.plot(transect_proj[key][0,0],transect_proj[key][0,1], 'bo', ms=5)\n",
    "    plt.plot(transect_proj[key][:,0],transect_proj[key][:,1],'k-',lw=1)\n",
    "    #plt.text(transects_proj[key][0,0]-100, transects_proj[key][0,1]+100, key, va='center', ha='right', bbox=dict(boxstyle=\"square\", ec='k',fc='w'))\n",
    "plt.show()"
   ]
  },
  {
   "cell_type": "code",
   "execution_count": null,
   "metadata": {},
   "outputs": [],
   "source": [
    "#Displays the lines\n",
    "\n",
    "fig = plt.figure(figsize=[15,8])\n",
    "plt.axis('equal')\n",
    "plt.xlabel('Eastings')\n",
    "plt.ylabel('Northings')\n",
    "plt.grid(linestyle=':', color='0.5')\n",
    "for i in range(len(output_proj['shorelines'])):\n",
    "    sl = output_proj['shorelines'][i]\n",
    "    date = output_proj['dates'][i]\n",
    "    plt.plot(sl[:,0], sl[:,1], '.')#, label=date.strftime('%d-%m-%Y'))\n",
    "plt.legend()\n",
    "plt.show()"
   ]
  },
  {
   "cell_type": "code",
   "execution_count": null,
   "metadata": {
    "scrolled": true
   },
   "outputs": [],
   "source": [
    "#Cross-distance plots for ALL transects (do not bother if you are considering a LOT of transects)\n",
    "\n",
    "fig = plt.figure(figsize=[15,12], tight_layout=True)\n",
    "gs = gridspec.GridSpec(len(cross_distance),2, wspace=0.035, width_ratios=[3,1])\n",
    "gs.update(left=0.05, right=0.95, bottom=0.05, top=0.95, hspace=0.2)\n",
    "for i,key in enumerate(cross_distance.keys()):\n",
    "    if np.all(np.isnan(cross_distance[key])):\n",
    "        continue\n",
    "    ax = fig.add_subplot(gs[i,0])\n",
    "    ax.grid(linestyle=':', color='0.5')\n",
    "    ax.set_ylim([-100,110])\n",
    "    ax.plot(output['dates'], cross_distance[key]- np.nanmedian(cross_distance[key]), '-o', ms=6, mfc='w')\n",
    "    #ax.set_ylabel('distance [m]', fontsize=12)\n",
    "    ax.text(0.5,0.95, key, bbox=dict(boxstyle=\"square\", ec='k',fc='w'), ha='center',va='top', transform=ax.transAxes, fontsize=14)\n",
    "    if i!= len(cross_distance.keys())-1:\n",
    "        ax.set_xticklabels('')\n",
    "    ax = fig.add_subplot(gs[i,1])\n",
    "    #ax.set_xlim([-50,50])\n",
    "    ax.set_xlim([0,0.015])\n",
    "    sns.distplot(cross_distance[key]- np.nanmedian(cross_distance[key]), bins=10, color=\"b\", ax=ax, vertical=True)\n",
    "    ax.set_yticklabels('')\n",
    "    if i!= len(cross_distance.keys())-1:\n",
    "        ax.set_xticklabels('')\n",
    "fig.text(0.01, 0.5, 'Cross-Shore Distance / m', va='center', rotation='vertical', fontsize=12)\n"
   ]
  },
  {
   "cell_type": "code",
   "execution_count": null,
   "metadata": {},
   "outputs": [],
   "source": [
    "transect_range = [[0, 50],[51,110],[111,180],[181,240],[241,len(output['dates'])-1]]\n",
    "#transect_colour = sns.color_palette(\"bright\", len(transect_range))\n",
    "colours = ['#ff0000','#0084ff','#ff00f7','#00fa0c', '#ffb300', '#00ffcc','#7b00ff']\n",
    "transect_colour = colours"
   ]
  },
  {
   "cell_type": "code",
   "execution_count": null,
   "metadata": {},
   "outputs": [],
   "source": [
    "#In this cell, you can iterate on transect range (we will use these ranges to analyse specific regions of the edge)\n",
    "\n",
    "fig = plt.figure(figsize=[15,8], tight_layout=True)\n",
    "plt.axis('equal')\n",
    "plt.xlabel('Eastings')\n",
    "plt.ylabel('Northings')\n",
    "#plt.xlim(509000,513000)\n",
    "#plt.ylim(6244400,6247250)\n",
    "plt.grid(linestyle=':', color='0.5')\n",
    "for i in range(len(output_proj['shorelines'])):\n",
    "    sl = output_proj['shorelines'][i]\n",
    "    date = output_proj['dates'][i]\n",
    "    plt.plot(sl[:,0], sl[:,1], '.')#, label=date.strptime('%d-%m-%Y'))\n",
    "\n",
    "if transect_range == 'full':\n",
    "    transect_range = [[0,len(transect_proj.keys())]]   \n",
    "\n",
    "for i,key in enumerate(list(transect_proj.keys())):\n",
    "    for j in range(len(transect_range)):\n",
    "        if transect_range[j][0] <= i <= transect_range[j][1]:\n",
    "            plt.plot(transect_proj[key][0,0],transect_proj[key][0,1], 'bo', ms=5,color=transect_colour[j])\n",
    "            plt.plot(transect_proj[key][:,0],transect_proj[key][:,1],'k-',lw=1,color=transect_colour[j])\n",
    "    #plt.text(transects_proj[key][0,0]-100, transects_proj[key][0,1]+100, key, va='center', ha='right', bbox=dict(boxstyle=\"square\", ec='k',fc='w'))\n",
    "\n",
    "plt.savefig('Data/' + sitename + '/jpg_files/transectsFull', bbox_inches='tight')\n",
    "  \n",
    "plt.show()"
   ]
  },
  {
   "cell_type": "code",
   "execution_count": null,
   "metadata": {},
   "outputs": [],
   "source": [
    "#Year by Year\n",
    "\n",
    "from matplotlib import rcParams\n",
    "rcParams.update({'figure.autolayout': True})\n",
    "\n",
    "fig, axs = plt.subplots(len(transect_range),sharex=True,figsize=(10, 12))\n",
    "fig.text(0.005, 0.5, \"Average Yearly Vegetation Cross-Edge Distance / m\", va='center', rotation='vertical', fontsize=12)\n",
    "\n",
    "for i in range(len(transect_range)):\n",
    "    axs[i].set_title(\"Transects:\"+str(transect_range[i][0])+\"-\"+str(transect_range[i][1]),backgroundcolor=transect_colour[i],color='white')\n",
    "    if i != len(transect_range)-1:\n",
    "        axs[i].xaxis.set_visible(False)\n",
    "    if i == len(transect_range)-1:\n",
    "        axs[i].set_xlabel(\"Year\", fontsize=12)\n",
    "    for j in range(transect_range[i][0],transect_range[i][1]):\n",
    "        KEY = 'Transect_'+str(j+1)\n",
    "        try:\n",
    "            a, b, c, d, e = Toolbox.Separate_TimeSeries_year(cross_distance, output_proj, KEY)\n",
    "            NaN_mask = np.isfinite(e)\n",
    "            axs[i].plot(np.array(d)[NaN_mask],np.array(e)[NaN_mask])\n",
    "        except:\n",
    "            continue\n",
    "            \n",
    "plt.savefig('Data/' + sitename + '/jpg_files/avgYearlyVegPosition', bbox_inches='tight')\n"
   ]
  },
  {
   "cell_type": "code",
   "execution_count": null,
   "metadata": {},
   "outputs": [],
   "source": [
    "#Good at looking at seasonal patterns. Takes a while.\n",
    "\n",
    "#plt.figure(figsize=[15,12])\n",
    "\n",
    "months = [\"Jan\", \"Feb\", \"Mar\", \"Apr\", \"May\", \"June\", \"July\", \"Aug\", \"Sept\", \"Oct\", \"Nov\", \"Dec\"]\n",
    "Month_dict = {\"Jan\":[], \"Feb\":[], \"Mar\":[], \"Apr\":[], \"May\":[], \"June\":[], \"July\":[], \"Aug\":[], \"Sept\":[], \"Oct\":[], \"Nov\":[], \"Dec\":[]}\n",
    "\n",
    "Total_Month_Arr = []\n",
    "test1 = []\n",
    "test2 = []\n",
    "\n",
    "fig, axs = plt.subplots(len(transect_range),sharex=True,figsize=(10, 12))\n",
    "\n",
    "for l in range(len(transect_range)):\n",
    "\n",
    "    for i in range(transect_range[l][0],transect_range[l][1]):\n",
    "        KEY = 'Transect_'+str(i+1)\n",
    "        try:\n",
    "            a, b, c, d, e = Toolbox.Separate_TimeSeries_month(cross_distance, output_proj,KEY)\n",
    "\n",
    "            zipped_lists = zip(d,e)\n",
    "            s = sorted(zipped_lists)\n",
    "            tuples = zip(s)\n",
    "\n",
    "            new_d = []\n",
    "            new_e = []\n",
    "\n",
    "            sortedList = [list(tuple) for tuple in  tuples]\n",
    "\n",
    "            for v in range(len(sortedList)):\n",
    "                new_d.append(sortedList[v][0][0])\n",
    "                new_e.append(sortedList[v][0][1])\n",
    "\n",
    "            month_arr = []\n",
    "            for j in range(len(d)):\n",
    "                a = datetime.strptime(str(new_d[j]),'%m')\n",
    "                month_arr.append(a.strftime('%b'))\n",
    "\n",
    "            axs[l].scatter(month_arr,new_e,label=KEY)\n",
    "            test1.append(new_d)\n",
    "            test2.append(new_e)\n",
    "        except:\n",
    "            continue\n",
    "\n",
    "    avg = []\n",
    "    st_err = []\n",
    "    Total_organised = []\n",
    "    temp = []\n",
    "\n",
    "    for k in range(len(test2[0])):\n",
    "        for h in range(len(test2)):\n",
    "            temp.append(test2[h][k])\n",
    "        Total_organised.append(temp)\n",
    "        avg.append(np.nanmean(temp))\n",
    "        st_err.append(np.nanstd(temp)/(len(temp)**0.5))\n",
    "        temp = []\n",
    "    \n",
    "    Total_Month_Arr.append(Total_organised)\n",
    "    \n",
    "    #plt.errorbar(month_arr,avg, yerr=st_err, color='k')\n",
    "    axs[l].scatter(month_arr,avg, color='k', s=50, marker='x')\n",
    "\n",
    "    #plt.legend()\n",
    "    axs[l].set_title(\"Transects:\"+str(transect_range[l][0])+\"-\"+str(transect_range[l][1]),backgroundcolor=transect_colour[l],color='white')\n",
    "\n",
    "fig.text(0.01,0.5,\"Averaged Monthly Vegetation Cross-Edge Distance / m\", va='center', rotation='vertical')\n",
    "plt.xlabel(\"Month\")\n",
    "\n",
    "plt.savefig('Data/' + sitename + '/jpg_files/monthScatter', bbox_inches='tight')\n"
   ]
  },
  {
   "cell_type": "code",
   "execution_count": null,
   "metadata": {},
   "outputs": [],
   "source": [
    "fig, axs = plt.subplots(len(transect_range),sharex=True,figsize=(10, 12))\n",
    "\n",
    "for j in range(len(Total_Month_Arr)):\n",
    "    \n",
    "    axs[j].set_title(\"Transects:\"+str(transect_range[j][0])+\"-\"+str(transect_range[j][1]),backgroundcolor=transect_colour[j],color='white')\n",
    "    axs[j].boxplot(Total_Month_Arr[j],notch=True, flierprops = dict(marker='o', markersize=8, linestyle='none', markeredgecolor='r'))\n",
    "\n",
    "fig.text(0.01,0.5,\"Averaged Monthly Vegetation Cross-Edge Distance / m\", va='center', rotation='vertical')\n",
    "plt.xticks(new_d, month_arr)\n",
    "\n",
    "plt.savefig('Data/' + sitename + '/jpg_files/monthBox', bbox_inches='tight')\n",
    "\n",
    "plt.show()"
   ]
  },
  {
   "cell_type": "code",
   "execution_count": null,
   "metadata": {},
   "outputs": [],
   "source": [
    "def adjacent_values(vals, q1, q3):\n",
    "    upper_adjacent_value = q3 + (q3 - q1) * 1.5\n",
    "    upper_adjacent_value = np.clip(upper_adjacent_value, q3, vals[-1])\n",
    "\n",
    "    lower_adjacent_value = q1 - (q3 - q1) * 1.5\n",
    "    lower_adjacent_value = np.clip(lower_adjacent_value, vals[0], q1)\n",
    "    return lower_adjacent_value, upper_adjacent_value\n",
    "\n",
    "\n",
    "def set_axis_style(ax, labels):\n",
    "    ax.xaxis.set_tick_params(direction='out')\n",
    "    ax.xaxis.set_ticks_position('bottom')\n",
    "    ax.set_xticks(np.arange(1, len(labels) + 1))\n",
    "    ax.set_xticklabels(labels)\n",
    "    ax.set_xlim(0.25, len(labels) + 0.75)\n",
    "    #ax.set_xlabel('Sample name')\n",
    "\n",
    "fig, axs = plt.subplots(len(transect_range),sharex=True,figsize=(10, 12))\n",
    "\n",
    "for j in range(len(Total_Month_Arr)):\n",
    "    \n",
    "    axs[j].set_title(\"Transects:\"+str(transect_range[j][0])+\"-\"+str(transect_range[j][1]),backgroundcolor=transect_colour[j],color='white')\n",
    "    parts = axs[j].violinplot(Total_Month_Arr[j], showmeans=False, showmedians=False, showextrema=False)\n",
    "\n",
    "    for pc in parts['bodies']:\n",
    "        pc.set_facecolor(transect_colour[j])\n",
    "        pc.set_edgecolor('black')\n",
    "        pc.set_alpha(0.7)\n",
    "\n",
    "    quartile1, medians, quartile3 = np.percentile(Total_Month_Arr[j], [25, 50, 75], axis=1)\n",
    "    whiskers = np.array([\n",
    "        adjacent_values(sorted_array, q1, q3)\n",
    "        for sorted_array, q1, q3 in zip(Total_Month_Arr[j], quartile1, quartile3)])\n",
    "    whiskers_min, whiskers_max = whiskers[:, 0], whiskers[:, 1]\n",
    "\n",
    "    inds = np.arange(1, len(medians) + 1)\n",
    "    axs[j].scatter(inds, medians, marker='o', color='white', s=30, zorder=3)\n",
    "    axs[j].vlines(inds, quartile1, quartile3, color='k', linestyle='-', lw=5)\n",
    "    axs[j].vlines(inds, whiskers_min, whiskers_max, color='k', linestyle='-', lw=1)\n",
    "    \n",
    "    if j == len(Total_Month_Arr):\n",
    "        set_axis_style(axs[j], month_arr)\n",
    "\n",
    "fig.text(0.005,0.5,\"Averaged Monthly Vegetation Cross-Edge Distance / m\", va='center', rotation='vertical')\n",
    "plt.xticks(new_d, month_arr)\n",
    "\n",
    "plt.savefig('Data/' + sitename + '/jpg_files/monthViolin', bbox_inches='tight')\n",
    "\n",
    "plt.show()"
   ]
  },
  {
   "cell_type": "code",
   "execution_count": null,
   "metadata": {},
   "outputs": [],
   "source": [
    "#array of colours for each of the averaged transect-analysis (add more if need be)\n",
    "colours = ['#ff0000','#0084ff','#ff00f7','#00fa0c', '#ffb300', '#00ffcc','#7b00ff']\n",
    "\n",
    "Rows = []\n",
    "\n",
    "with open('Data/'+sitename+'/vegetation_transect_time_series.csv', newline='') as csvfile:\n",
    "    spamreader = csv.reader(csvfile, delimiter=',', quotechar='|')\n",
    "    for row in spamreader:\n",
    "        Rows.append(row[2:])\n",
    "\n",
    "cross_distance_condensed, standard_err_condensed, transect_condensed, Dates = Transects.transect_compiler(Rows, transect_proj, 100, output)"
   ]
  },
  {
   "cell_type": "code",
   "execution_count": null,
   "metadata": {},
   "outputs": [],
   "source": [
    "fig = plt.figure(figsize=[15,12], tight_layout=True)\n",
    "gs = gridspec.GridSpec(len(cross_distance_condensed),2, wspace=0.035, width_ratios=[4,1])\n",
    "gs.update(left=0.05, right=0.95, bottom=0.05, top=0.95, hspace=0.05)\n",
    "\n",
    "x = np.arange(datetime(1984,1,1), datetime(2022,1,1), timedelta(days=100)).astype(str)\n",
    "y = [0]*139\n",
    "\n",
    "for i,key in enumerate(cross_distance_condensed.keys()):\n",
    "    \n",
    "    if np.all(np.isnan(cross_distance_condensed[key])):\n",
    "        continue\n",
    "        \n",
    "    ax = fig.add_subplot(gs[i,0])\n",
    "    ax.grid(linestyle=':', color='0.5')\n",
    "    ax.set_ylim([min(cross_distance_condensed[key]- np.nanmedian(cross_distance_condensed[key]))-5,max(cross_distance_condensed[key]- np.nanmedian(cross_distance_condensed[key]))+5])\n",
    "    dates = matplotlib.dates.date2num(Dates[key])\n",
    "    ax.errorbar(dates, cross_distance_condensed[key]- np.nanmedian(cross_distance_condensed[key]), yerr = standard_err_condensed[key],fmt='-o',ecolor= 'k', color= colours[i], ms=6, mfc='w')\n",
    "\n",
    "    ax.fill_between(dates, 0, cross_distance_condensed[key]- np.nanmedian(cross_distance_condensed[key]),alpha=0.5,color=colours[i])\n",
    "    ax.set_title(\"Transects:\"+str(transect_range[i][0])+\"-\"+str(transect_range[i][1]),backgroundcolor=transect_colour[i],color='white')\n",
    "\n",
    "    ax.set_xticklabels(['1982','1986','1992','1998','2004','2010','2016','2020','2014','2018','2022'])\n",
    "\n",
    "    if i!= len(cross_distance_condensed.keys())-1:\n",
    "        ax.set_xticklabels('')\n",
    "\n",
    "    ax = fig.add_subplot(gs[i,1])\n",
    "    ax.set_xlim([0,0.020])\n",
    "    sns.distplot(cross_distance_condensed[key]- np.nanmedian(cross_distance_condensed[key]), bins=10, color=colours[i], ax=ax, vertical=True)\n",
    "    ax.set_yticklabels('')\n",
    "    \n",
    "    if i!= len(cross_distance_condensed.keys())-1:\n",
    "        ax.set_xticklabels('')\n",
    "        ax.set_xlabel('')\n",
    "        \n",
    "fig.text(0.01, 0.5, 'Cross Vegetation-Edge Distance / m', va='center', rotation='vertical', fontsize=13.8)\n",
    "\n",
    "plt.savefig('Data/' + sitename + '/jpg_files/crossEdgeDistances', bbox_inches='tight')"
   ]
  },
  {
   "cell_type": "code",
   "execution_count": null,
   "metadata": {},
   "outputs": [],
   "source": [
    "ref_sl_conv = Toolbox.convert_epsg(settings['reference_shoreline'], 32630, 27700)[:,:-1]\n",
    "\n",
    "vv = dict([])\n",
    "vv['1'] = [ref_sl_conv]\n",
    "\n",
    "#Displays produced lines/transects\n",
    "\n",
    "fig = plt.figure()#figsize=[15,8], tight_layout=True)\n",
    "plt.axis('equal')\n",
    "#plt.xlabel('Eastings')\n",
    "#plt.ylabel('Northings')\n",
    "plt.xlim(min(vv['1'][0][:,0]),max(vv['1'][0][:,0]))\n",
    "plt.xticks('')\n",
    "plt.yticks('')\n",
    "plt.ylim(min(vv['1'][0][:,1])-50,max(vv['1'][0][:,1])+50)\n",
    "plt.grid(linestyle=':', color='0.5')\n",
    "for i in range(len(vv['1'])):\n",
    "    sl = vv['1'][i]\n",
    "    date = vv['1'][i]\n",
    "    plt.plot(sl[:,0], sl[:,1], '.', color='k')#, label=date.strptime('%d-%m-%Y'))\n",
    " \n",
    "for i,key in enumerate(list(transect_condensed.keys())):\n",
    "    plt.plot(transect_condensed[key][0,0],transect_condensed[key][0,1], 'bo', color= colours[i], ms=5)\n",
    "    plt.plot(transect_condensed[key][:,0],transect_condensed[key][:,1],'k-', color= colours[i], lw=1)\n",
    "    plt.text(transect_condensed[key][1][0],transect_condensed[key][1][1], key, va='bottom', ha='right', bbox=dict(boxstyle=\"round\", ec='k',fc='w'), fontsize=10)\n",
    "\n",
    "plt.savefig('Data/' + sitename + '/jpg_files/refEdge_Transects', bbox_inches='tight')\n",
    "plt.show()"
   ]
  },
  {
   "cell_type": "code",
   "execution_count": null,
   "metadata": {},
   "outputs": [],
   "source": [
    "Big_percent = []\n",
    "for i,key in enumerate(cross_distance_condensed.keys()):\n",
    "    cross = cross_distance_condensed[key]- np.nanmedian(cross_distance_condensed[key])\n",
    "    percent_diff = []\n",
    "    for j in range(len(cross)):\n",
    "        percent_diff.append(100*(cross[j]-cross[0])/cross[0])\n",
    "        \n",
    "    Big_percent.append(percent_diff)"
   ]
  },
  {
   "cell_type": "code",
   "execution_count": null,
   "metadata": {},
   "outputs": [],
   "source": [
    "Big_arr = []\n",
    "Big_datearr = []\n",
    "\n",
    "Year = [[]]*(2021-1984)\n",
    "\n",
    "for i in range(len(transect_range)):\n",
    "    percent_diff = []\n",
    "    dist_arr = []\n",
    "    date_arr = []\n",
    "    for j in range(transect_range[i][0],transect_range[i][1]):\n",
    "        KEY = 'Transect_'+str(j+1)\n",
    "        try:\n",
    "            a, b, c, d, e = Toolbox.Separate_TimeSeries_year(cross_distance, output_proj, KEY)\n",
    "            NaN_mask = np.isfinite(e)\n",
    "            dist_arr.append(list(np.array(e)[NaN_mask]))\n",
    "            date_arr.append(list(np.array(d)[NaN_mask]))\n",
    "            #percent_diff.append()\n",
    "        except:\n",
    "            continue\n",
    "    Big_arr.append(dist_arr)\n",
    "    Big_datearr.append(date_arr)"
   ]
  },
  {
   "cell_type": "code",
   "execution_count": null,
   "metadata": {},
   "outputs": [],
   "source": [
    "Big_Percent = []\n",
    "\n",
    "for j in range(len(Big_arr)):\n",
    "    Medium_Percent_TransectRange = []\n",
    "    Year = dict([])\n",
    "    for i in range(len(Big_arr[j])):\n",
    "        for k in range(len(Big_arr[j][i])):\n",
    "            index = Big_datearr[j][i][k]-1984\n",
    "            if Year.get(str(index)) == None:\n",
    "                Year[str(index)] = []\n",
    "            Year[str(index)].append(Big_arr[j][i][index-1])\n",
    "            #print(len(Year[index-1]))\n",
    "    List_year = []\n",
    "    for v, key in enumerate(Year):\n",
    "        List_year.append(np.mean(Year[key]))\n",
    "    Big_Percent.append(List_year[1:])\n",
    "    #print(List_year)"
   ]
  },
  {
   "cell_type": "code",
   "execution_count": null,
   "metadata": {},
   "outputs": [],
   "source": [
    "Barz = []\n",
    "\n",
    "for i in range(len(Big_Percent)):\n",
    "    temp = []\n",
    "    for j in range(len(Big_Percent[i])):\n",
    "        temp.append(100*(Big_Percent[i][j]-Big_Percent[i][0])/Big_Percent[i][0])\n",
    "    Barz.append(temp)"
   ]
  },
  {
   "cell_type": "code",
   "execution_count": null,
   "metadata": {},
   "outputs": [],
   "source": [
    "fig, axs = plt.subplots(figsize=(10, 12))\n",
    "for i in range(len(Barz)):\n",
    "    axs.barh(np.arange(len(Barz[i]))+(i/5), Barz[i], align='center',height= 0.2,color=colours[i],label='Transects: '+str(transect_range[i][0])+\"-\"+str(transect_range[i][1]) )\n",
    "axs.plot([0]*100,np.arange(0,37,0.37),'-.',color='k')\n",
    "axs.set_xlabel(\"% Change Since 1984\")\n",
    "#axs.set_xlim(-500,500)\n",
    "axs.set_yticks(np.arange(0,37,1))\n",
    "axs.set_yticklabels(list(np.array(d)[NaN_mask]))\n",
    "fig.text(0.25,0.85,\"Accretion (Relative to 1984)\")\n",
    "fig.text(0.58,0.85,\"Erosion (Relative to 1984)\")\n",
    "axs.legend(loc='lower right')\n",
    "for i in range(37):\n",
    "    axs.plot(np.arange(-500,500,10),[i-0.1]*100,'-.',color='k',alpha=0.7,linewidth=0.45)\n",
    "fig.savefig(os.path.join('Data/' + sitename + '/jpg_files/barBreakdown.jpg'), dpi=150)\n",
    "plt.show()"
   ]
  },
  {
   "cell_type": "code",
   "execution_count": 11,
   "metadata": {},
   "outputs": [
    {
     "data": {
      "text/plain": [
       "0.030446"
      ]
     },
     "execution_count": 11,
     "metadata": {},
     "output_type": "execute_result"
    }
   ],
   "source": [
    "Sentinel2 = ee.ImageCollection(\"COPERNICUS/S2\").filterBounds(point).filterDate(dates[0], dates[1]).filter(ee.Filter.lte('CLOUDY_PIXEL_PERCENTAGE', 98.5))"
   ]
  },
  {
   "cell_type": "code",
   "execution_count": 15,
   "metadata": {},
   "outputs": [
    {
     "data": {
      "text/plain": [
       "0.684263"
      ]
     },
     "execution_count": 15,
     "metadata": {},
     "output_type": "execute_result"
    }
   ],
   "source": [
    "Sentinel2.getInfo().get('features')[4]['properties']['CLOUDY_PIXEL_PERCENTAGE']/100"
   ]
  },
  {
   "cell_type": "code",
   "execution_count": null,
   "metadata": {},
   "outputs": [],
   "source": []
  }
 ],
 "metadata": {
  "kernelspec": {
   "display_name": "Python 3 (ipykernel)",
   "language": "python",
   "name": "python3"
  },
  "language_info": {
   "codemirror_mode": {
    "name": "ipython",
    "version": 3
   },
   "file_extension": ".py",
   "mimetype": "text/x-python",
   "name": "python",
   "nbconvert_exporter": "python",
   "pygments_lexer": "ipython3",
   "version": "3.7.11"
  },
  "toc": {
   "base_numbering": 1,
   "nav_menu": {},
   "number_sections": true,
   "sideBar": true,
   "skip_h1_title": false,
   "title_cell": "Table of Contents",
   "title_sidebar": "Contents",
   "toc_cell": false,
   "toc_position": {},
   "toc_section_display": true,
   "toc_window_display": false
  },
  "varInspector": {
   "cols": {
    "lenName": 16,
    "lenType": 16,
    "lenVar": 40
   },
   "kernels_config": {
    "python": {
     "delete_cmd_postfix": "",
     "delete_cmd_prefix": "del ",
     "library": "var_list.py",
     "varRefreshCmd": "print(var_dic_list())"
    },
    "r": {
     "delete_cmd_postfix": ") ",
     "delete_cmd_prefix": "rm(",
     "library": "var_list.r",
     "varRefreshCmd": "cat(var_dic_list()) "
    }
   },
   "types_to_exclude": [
    "module",
    "function",
    "builtin_function_or_method",
    "instance",
    "_Feature"
   ],
   "window_display": false
  }
 },
 "nbformat": 4,
 "nbformat_minor": 2
}
